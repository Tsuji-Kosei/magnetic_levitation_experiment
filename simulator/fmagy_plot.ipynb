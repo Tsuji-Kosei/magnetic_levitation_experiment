{
  "nbformat": 4,
  "nbformat_minor": 0,
  "metadata": {
    "colab": {
      "name": "fmagy_plot.ipynb",
      "provenance": [],
      "collapsed_sections": []
    },
    "kernelspec": {
      "name": "python3",
      "display_name": "Python 3"
    },
    "language_info": {
      "name": "python"
    },
    "widgets": {
      "application/vnd.jupyter.widget-state+json": {
        "b3636a217acc42219e1f218a84bce231": {
          "model_module": "@jupyter-widgets/controls",
          "model_name": "VBoxModel",
          "model_module_version": "1.5.0",
          "state": {
            "_dom_classes": [
              "widget-interact"
            ],
            "_model_module": "@jupyter-widgets/controls",
            "_model_module_version": "1.5.0",
            "_model_name": "VBoxModel",
            "_view_count": null,
            "_view_module": "@jupyter-widgets/controls",
            "_view_module_version": "1.5.0",
            "_view_name": "VBoxView",
            "box_style": "",
            "children": [
              "IPY_MODEL_2faba2db133e473c9a385e3326e1b648",
              "IPY_MODEL_bf1345f526a54498b6957f8c18340c94",
              "IPY_MODEL_488d720199a249bd94b3736cb7e8af7a",
              "IPY_MODEL_13b83734e87145bc8f92ba37739b84d1"
            ],
            "layout": "IPY_MODEL_5d39a995e6c0419c856ddec2e0fb07ea"
          }
        },
        "2faba2db133e473c9a385e3326e1b648": {
          "model_module": "@jupyter-widgets/controls",
          "model_name": "FloatSliderModel",
          "model_module_version": "1.5.0",
          "state": {
            "_dom_classes": [],
            "_model_module": "@jupyter-widgets/controls",
            "_model_module_version": "1.5.0",
            "_model_name": "FloatSliderModel",
            "_view_count": null,
            "_view_module": "@jupyter-widgets/controls",
            "_view_module_version": "1.5.0",
            "_view_name": "FloatSliderView",
            "continuous_update": true,
            "description": "l",
            "description_tooltip": null,
            "disabled": false,
            "layout": "IPY_MODEL_5071e762db5e4e608e6979b442253bcb",
            "max": 0.07,
            "min": 0.01,
            "orientation": "horizontal",
            "readout": true,
            "readout_format": ".2f",
            "step": 0.001,
            "style": "IPY_MODEL_a6e28b81eb384682b1d2eba497424629",
            "value": 0.054
          }
        },
        "bf1345f526a54498b6957f8c18340c94": {
          "model_module": "@jupyter-widgets/controls",
          "model_name": "FloatSliderModel",
          "model_module_version": "1.5.0",
          "state": {
            "_dom_classes": [],
            "_model_module": "@jupyter-widgets/controls",
            "_model_module_version": "1.5.0",
            "_model_name": "FloatSliderModel",
            "_view_count": null,
            "_view_module": "@jupyter-widgets/controls",
            "_view_module_version": "1.5.0",
            "_view_name": "FloatSliderView",
            "continuous_update": true,
            "description": "r1",
            "description_tooltip": null,
            "disabled": false,
            "layout": "IPY_MODEL_0ba44c61c0c2408387d4d0a28516beaf",
            "max": 0.05,
            "min": 0.01,
            "orientation": "horizontal",
            "readout": true,
            "readout_format": ".2f",
            "step": 0.001,
            "style": "IPY_MODEL_fd376da8900c4ffea8d0783d2fab1f72",
            "value": 0.049
          }
        },
        "488d720199a249bd94b3736cb7e8af7a": {
          "model_module": "@jupyter-widgets/controls",
          "model_name": "FloatSliderModel",
          "model_module_version": "1.5.0",
          "state": {
            "_dom_classes": [],
            "_model_module": "@jupyter-widgets/controls",
            "_model_module_version": "1.5.0",
            "_model_name": "FloatSliderModel",
            "_view_count": null,
            "_view_module": "@jupyter-widgets/controls",
            "_view_module_version": "1.5.0",
            "_view_name": "FloatSliderView",
            "continuous_update": true,
            "description": "r2",
            "description_tooltip": null,
            "disabled": false,
            "layout": "IPY_MODEL_4fbe2308fc2f4dbf9740776b57858255",
            "max": 0.02,
            "min": 0.01,
            "orientation": "horizontal",
            "readout": true,
            "readout_format": ".2f",
            "step": 0.0001,
            "style": "IPY_MODEL_a753186dd5c44939b69b035984b745da",
            "value": 0.0149
          }
        },
        "13b83734e87145bc8f92ba37739b84d1": {
          "model_module": "@jupyter-widgets/output",
          "model_name": "OutputModel",
          "model_module_version": "1.0.0",
          "state": {
            "_dom_classes": [],
            "_model_module": "@jupyter-widgets/output",
            "_model_module_version": "1.0.0",
            "_model_name": "OutputModel",
            "_view_count": null,
            "_view_module": "@jupyter-widgets/output",
            "_view_module_version": "1.0.0",
            "_view_name": "OutputView",
            "layout": "IPY_MODEL_0454f9bf3d72492dad3f636478a29d31",
            "msg_id": "",
            "outputs": [
              {
                "output_type": "display_data",
                "data": {
                  "text/plain": "<Figure size 432x288 with 1 Axes>",
                  "image/png": "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\n"
                },
                "metadata": {
                  "needs_background": "light"
                }
              }
            ]
          }
        },
        "5d39a995e6c0419c856ddec2e0fb07ea": {
          "model_module": "@jupyter-widgets/base",
          "model_name": "LayoutModel",
          "model_module_version": "1.2.0",
          "state": {
            "_model_module": "@jupyter-widgets/base",
            "_model_module_version": "1.2.0",
            "_model_name": "LayoutModel",
            "_view_count": null,
            "_view_module": "@jupyter-widgets/base",
            "_view_module_version": "1.2.0",
            "_view_name": "LayoutView",
            "align_content": null,
            "align_items": null,
            "align_self": null,
            "border": null,
            "bottom": null,
            "display": null,
            "flex": null,
            "flex_flow": null,
            "grid_area": null,
            "grid_auto_columns": null,
            "grid_auto_flow": null,
            "grid_auto_rows": null,
            "grid_column": null,
            "grid_gap": null,
            "grid_row": null,
            "grid_template_areas": null,
            "grid_template_columns": null,
            "grid_template_rows": null,
            "height": null,
            "justify_content": null,
            "justify_items": null,
            "left": null,
            "margin": null,
            "max_height": null,
            "max_width": null,
            "min_height": null,
            "min_width": null,
            "object_fit": null,
            "object_position": null,
            "order": null,
            "overflow": null,
            "overflow_x": null,
            "overflow_y": null,
            "padding": null,
            "right": null,
            "top": null,
            "visibility": null,
            "width": null
          }
        },
        "5071e762db5e4e608e6979b442253bcb": {
          "model_module": "@jupyter-widgets/base",
          "model_name": "LayoutModel",
          "model_module_version": "1.2.0",
          "state": {
            "_model_module": "@jupyter-widgets/base",
            "_model_module_version": "1.2.0",
            "_model_name": "LayoutModel",
            "_view_count": null,
            "_view_module": "@jupyter-widgets/base",
            "_view_module_version": "1.2.0",
            "_view_name": "LayoutView",
            "align_content": null,
            "align_items": null,
            "align_self": null,
            "border": null,
            "bottom": null,
            "display": null,
            "flex": null,
            "flex_flow": null,
            "grid_area": null,
            "grid_auto_columns": null,
            "grid_auto_flow": null,
            "grid_auto_rows": null,
            "grid_column": null,
            "grid_gap": null,
            "grid_row": null,
            "grid_template_areas": null,
            "grid_template_columns": null,
            "grid_template_rows": null,
            "height": null,
            "justify_content": null,
            "justify_items": null,
            "left": null,
            "margin": null,
            "max_height": null,
            "max_width": null,
            "min_height": null,
            "min_width": null,
            "object_fit": null,
            "object_position": null,
            "order": null,
            "overflow": null,
            "overflow_x": null,
            "overflow_y": null,
            "padding": null,
            "right": null,
            "top": null,
            "visibility": null,
            "width": null
          }
        },
        "a6e28b81eb384682b1d2eba497424629": {
          "model_module": "@jupyter-widgets/controls",
          "model_name": "SliderStyleModel",
          "model_module_version": "1.5.0",
          "state": {
            "_model_module": "@jupyter-widgets/controls",
            "_model_module_version": "1.5.0",
            "_model_name": "SliderStyleModel",
            "_view_count": null,
            "_view_module": "@jupyter-widgets/base",
            "_view_module_version": "1.2.0",
            "_view_name": "StyleView",
            "description_width": "",
            "handle_color": null
          }
        },
        "0ba44c61c0c2408387d4d0a28516beaf": {
          "model_module": "@jupyter-widgets/base",
          "model_name": "LayoutModel",
          "model_module_version": "1.2.0",
          "state": {
            "_model_module": "@jupyter-widgets/base",
            "_model_module_version": "1.2.0",
            "_model_name": "LayoutModel",
            "_view_count": null,
            "_view_module": "@jupyter-widgets/base",
            "_view_module_version": "1.2.0",
            "_view_name": "LayoutView",
            "align_content": null,
            "align_items": null,
            "align_self": null,
            "border": null,
            "bottom": null,
            "display": null,
            "flex": null,
            "flex_flow": null,
            "grid_area": null,
            "grid_auto_columns": null,
            "grid_auto_flow": null,
            "grid_auto_rows": null,
            "grid_column": null,
            "grid_gap": null,
            "grid_row": null,
            "grid_template_areas": null,
            "grid_template_columns": null,
            "grid_template_rows": null,
            "height": null,
            "justify_content": null,
            "justify_items": null,
            "left": null,
            "margin": null,
            "max_height": null,
            "max_width": null,
            "min_height": null,
            "min_width": null,
            "object_fit": null,
            "object_position": null,
            "order": null,
            "overflow": null,
            "overflow_x": null,
            "overflow_y": null,
            "padding": null,
            "right": null,
            "top": null,
            "visibility": null,
            "width": null
          }
        },
        "fd376da8900c4ffea8d0783d2fab1f72": {
          "model_module": "@jupyter-widgets/controls",
          "model_name": "SliderStyleModel",
          "model_module_version": "1.5.0",
          "state": {
            "_model_module": "@jupyter-widgets/controls",
            "_model_module_version": "1.5.0",
            "_model_name": "SliderStyleModel",
            "_view_count": null,
            "_view_module": "@jupyter-widgets/base",
            "_view_module_version": "1.2.0",
            "_view_name": "StyleView",
            "description_width": "",
            "handle_color": null
          }
        },
        "4fbe2308fc2f4dbf9740776b57858255": {
          "model_module": "@jupyter-widgets/base",
          "model_name": "LayoutModel",
          "model_module_version": "1.2.0",
          "state": {
            "_model_module": "@jupyter-widgets/base",
            "_model_module_version": "1.2.0",
            "_model_name": "LayoutModel",
            "_view_count": null,
            "_view_module": "@jupyter-widgets/base",
            "_view_module_version": "1.2.0",
            "_view_name": "LayoutView",
            "align_content": null,
            "align_items": null,
            "align_self": null,
            "border": null,
            "bottom": null,
            "display": null,
            "flex": null,
            "flex_flow": null,
            "grid_area": null,
            "grid_auto_columns": null,
            "grid_auto_flow": null,
            "grid_auto_rows": null,
            "grid_column": null,
            "grid_gap": null,
            "grid_row": null,
            "grid_template_areas": null,
            "grid_template_columns": null,
            "grid_template_rows": null,
            "height": null,
            "justify_content": null,
            "justify_items": null,
            "left": null,
            "margin": null,
            "max_height": null,
            "max_width": null,
            "min_height": null,
            "min_width": null,
            "object_fit": null,
            "object_position": null,
            "order": null,
            "overflow": null,
            "overflow_x": null,
            "overflow_y": null,
            "padding": null,
            "right": null,
            "top": null,
            "visibility": null,
            "width": null
          }
        },
        "a753186dd5c44939b69b035984b745da": {
          "model_module": "@jupyter-widgets/controls",
          "model_name": "SliderStyleModel",
          "model_module_version": "1.5.0",
          "state": {
            "_model_module": "@jupyter-widgets/controls",
            "_model_module_version": "1.5.0",
            "_model_name": "SliderStyleModel",
            "_view_count": null,
            "_view_module": "@jupyter-widgets/base",
            "_view_module_version": "1.2.0",
            "_view_name": "StyleView",
            "description_width": "",
            "handle_color": null
          }
        },
        "0454f9bf3d72492dad3f636478a29d31": {
          "model_module": "@jupyter-widgets/base",
          "model_name": "LayoutModel",
          "model_module_version": "1.2.0",
          "state": {
            "_model_module": "@jupyter-widgets/base",
            "_model_module_version": "1.2.0",
            "_model_name": "LayoutModel",
            "_view_count": null,
            "_view_module": "@jupyter-widgets/base",
            "_view_module_version": "1.2.0",
            "_view_name": "LayoutView",
            "align_content": null,
            "align_items": null,
            "align_self": null,
            "border": null,
            "bottom": null,
            "display": null,
            "flex": null,
            "flex_flow": null,
            "grid_area": null,
            "grid_auto_columns": null,
            "grid_auto_flow": null,
            "grid_auto_rows": null,
            "grid_column": null,
            "grid_gap": null,
            "grid_row": null,
            "grid_template_areas": null,
            "grid_template_columns": null,
            "grid_template_rows": null,
            "height": null,
            "justify_content": null,
            "justify_items": null,
            "left": null,
            "margin": null,
            "max_height": null,
            "max_width": null,
            "min_height": null,
            "min_width": null,
            "object_fit": null,
            "object_position": null,
            "order": null,
            "overflow": null,
            "overflow_x": null,
            "overflow_y": null,
            "padding": null,
            "right": null,
            "top": null,
            "visibility": null,
            "width": null
          }
        },
        "26cb569258ae407e95ac11c2d2392ba3": {
          "model_module": "@jupyter-widgets/controls",
          "model_name": "VBoxModel",
          "model_module_version": "1.5.0",
          "state": {
            "_dom_classes": [
              "widget-interact"
            ],
            "_model_module": "@jupyter-widgets/controls",
            "_model_module_version": "1.5.0",
            "_model_name": "VBoxModel",
            "_view_count": null,
            "_view_module": "@jupyter-widgets/controls",
            "_view_module_version": "1.5.0",
            "_view_name": "VBoxView",
            "box_style": "",
            "children": [
              "IPY_MODEL_d4d32c22d76b4debb2b8daca3221a501",
              "IPY_MODEL_f749389c3cad4e2ba35a32764e062b7a",
              "IPY_MODEL_dab612bddcbf4b8e94608120b7d8b287"
            ],
            "layout": "IPY_MODEL_cb52668d4cb744608434b2ff203b450b"
          }
        },
        "d4d32c22d76b4debb2b8daca3221a501": {
          "model_module": "@jupyter-widgets/controls",
          "model_name": "IntSliderModel",
          "model_module_version": "1.5.0",
          "state": {
            "_dom_classes": [],
            "_model_module": "@jupyter-widgets/controls",
            "_model_module_version": "1.5.0",
            "_model_name": "IntSliderModel",
            "_view_count": null,
            "_view_module": "@jupyter-widgets/controls",
            "_view_module_version": "1.5.0",
            "_view_name": "IntSliderView",
            "continuous_update": true,
            "description": "n",
            "description_tooltip": null,
            "disabled": false,
            "layout": "IPY_MODEL_5d3b42fae8154f7db04edc1f888788a5",
            "max": 20,
            "min": 1,
            "orientation": "horizontal",
            "readout": true,
            "readout_format": "d",
            "step": 1,
            "style": "IPY_MODEL_327d247ad26a4cd2819793d7748b1db1",
            "value": 10
          }
        },
        "f749389c3cad4e2ba35a32764e062b7a": {
          "model_module": "@jupyter-widgets/controls",
          "model_name": "IntSliderModel",
          "model_module_version": "1.5.0",
          "state": {
            "_dom_classes": [],
            "_model_module": "@jupyter-widgets/controls",
            "_model_module_version": "1.5.0",
            "_model_name": "IntSliderModel",
            "_view_count": null,
            "_view_module": "@jupyter-widgets/controls",
            "_view_module_version": "1.5.0",
            "_view_name": "IntSliderView",
            "continuous_update": true,
            "description": "d",
            "description_tooltip": null,
            "disabled": false,
            "layout": "IPY_MODEL_76861696d0254550a16219758d2c973d",
            "max": 100,
            "min": 1,
            "orientation": "horizontal",
            "readout": true,
            "readout_format": "d",
            "step": 1,
            "style": "IPY_MODEL_fadcebf362344476b7df3b6b43848add",
            "value": 30
          }
        },
        "dab612bddcbf4b8e94608120b7d8b287": {
          "model_module": "@jupyter-widgets/output",
          "model_name": "OutputModel",
          "model_module_version": "1.0.0",
          "state": {
            "_dom_classes": [],
            "_model_module": "@jupyter-widgets/output",
            "_model_module_version": "1.0.0",
            "_model_name": "OutputModel",
            "_view_count": null,
            "_view_module": "@jupyter-widgets/output",
            "_view_module_version": "1.0.0",
            "_view_name": "OutputView",
            "layout": "IPY_MODEL_98baf62752984616a561887acf3ef324",
            "msg_id": "",
            "outputs": [
              {
                "output_type": "stream",
                "name": "stdout",
                "text": [
                  "<class 'numpy.float64'>\n"
                ]
              },
              {
                "output_type": "display_data",
                "data": {
                  "text/plain": "<Figure size 432x288 with 1 Axes>",
                  "image/png": "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\n"
                },
                "metadata": {
                  "needs_background": "light"
                }
              }
            ]
          }
        },
        "cb52668d4cb744608434b2ff203b450b": {
          "model_module": "@jupyter-widgets/base",
          "model_name": "LayoutModel",
          "model_module_version": "1.2.0",
          "state": {
            "_model_module": "@jupyter-widgets/base",
            "_model_module_version": "1.2.0",
            "_model_name": "LayoutModel",
            "_view_count": null,
            "_view_module": "@jupyter-widgets/base",
            "_view_module_version": "1.2.0",
            "_view_name": "LayoutView",
            "align_content": null,
            "align_items": null,
            "align_self": null,
            "border": null,
            "bottom": null,
            "display": null,
            "flex": null,
            "flex_flow": null,
            "grid_area": null,
            "grid_auto_columns": null,
            "grid_auto_flow": null,
            "grid_auto_rows": null,
            "grid_column": null,
            "grid_gap": null,
            "grid_row": null,
            "grid_template_areas": null,
            "grid_template_columns": null,
            "grid_template_rows": null,
            "height": null,
            "justify_content": null,
            "justify_items": null,
            "left": null,
            "margin": null,
            "max_height": null,
            "max_width": null,
            "min_height": null,
            "min_width": null,
            "object_fit": null,
            "object_position": null,
            "order": null,
            "overflow": null,
            "overflow_x": null,
            "overflow_y": null,
            "padding": null,
            "right": null,
            "top": null,
            "visibility": null,
            "width": null
          }
        },
        "5d3b42fae8154f7db04edc1f888788a5": {
          "model_module": "@jupyter-widgets/base",
          "model_name": "LayoutModel",
          "model_module_version": "1.2.0",
          "state": {
            "_model_module": "@jupyter-widgets/base",
            "_model_module_version": "1.2.0",
            "_model_name": "LayoutModel",
            "_view_count": null,
            "_view_module": "@jupyter-widgets/base",
            "_view_module_version": "1.2.0",
            "_view_name": "LayoutView",
            "align_content": null,
            "align_items": null,
            "align_self": null,
            "border": null,
            "bottom": null,
            "display": null,
            "flex": null,
            "flex_flow": null,
            "grid_area": null,
            "grid_auto_columns": null,
            "grid_auto_flow": null,
            "grid_auto_rows": null,
            "grid_column": null,
            "grid_gap": null,
            "grid_row": null,
            "grid_template_areas": null,
            "grid_template_columns": null,
            "grid_template_rows": null,
            "height": null,
            "justify_content": null,
            "justify_items": null,
            "left": null,
            "margin": null,
            "max_height": null,
            "max_width": null,
            "min_height": null,
            "min_width": null,
            "object_fit": null,
            "object_position": null,
            "order": null,
            "overflow": null,
            "overflow_x": null,
            "overflow_y": null,
            "padding": null,
            "right": null,
            "top": null,
            "visibility": null,
            "width": null
          }
        },
        "327d247ad26a4cd2819793d7748b1db1": {
          "model_module": "@jupyter-widgets/controls",
          "model_name": "SliderStyleModel",
          "model_module_version": "1.5.0",
          "state": {
            "_model_module": "@jupyter-widgets/controls",
            "_model_module_version": "1.5.0",
            "_model_name": "SliderStyleModel",
            "_view_count": null,
            "_view_module": "@jupyter-widgets/base",
            "_view_module_version": "1.2.0",
            "_view_name": "StyleView",
            "description_width": "",
            "handle_color": null
          }
        },
        "76861696d0254550a16219758d2c973d": {
          "model_module": "@jupyter-widgets/base",
          "model_name": "LayoutModel",
          "model_module_version": "1.2.0",
          "state": {
            "_model_module": "@jupyter-widgets/base",
            "_model_module_version": "1.2.0",
            "_model_name": "LayoutModel",
            "_view_count": null,
            "_view_module": "@jupyter-widgets/base",
            "_view_module_version": "1.2.0",
            "_view_name": "LayoutView",
            "align_content": null,
            "align_items": null,
            "align_self": null,
            "border": null,
            "bottom": null,
            "display": null,
            "flex": null,
            "flex_flow": null,
            "grid_area": null,
            "grid_auto_columns": null,
            "grid_auto_flow": null,
            "grid_auto_rows": null,
            "grid_column": null,
            "grid_gap": null,
            "grid_row": null,
            "grid_template_areas": null,
            "grid_template_columns": null,
            "grid_template_rows": null,
            "height": null,
            "justify_content": null,
            "justify_items": null,
            "left": null,
            "margin": null,
            "max_height": null,
            "max_width": null,
            "min_height": null,
            "min_width": null,
            "object_fit": null,
            "object_position": null,
            "order": null,
            "overflow": null,
            "overflow_x": null,
            "overflow_y": null,
            "padding": null,
            "right": null,
            "top": null,
            "visibility": null,
            "width": null
          }
        },
        "fadcebf362344476b7df3b6b43848add": {
          "model_module": "@jupyter-widgets/controls",
          "model_name": "SliderStyleModel",
          "model_module_version": "1.5.0",
          "state": {
            "_model_module": "@jupyter-widgets/controls",
            "_model_module_version": "1.5.0",
            "_model_name": "SliderStyleModel",
            "_view_count": null,
            "_view_module": "@jupyter-widgets/base",
            "_view_module_version": "1.2.0",
            "_view_name": "StyleView",
            "description_width": "",
            "handle_color": null
          }
        },
        "98baf62752984616a561887acf3ef324": {
          "model_module": "@jupyter-widgets/base",
          "model_name": "LayoutModel",
          "model_module_version": "1.2.0",
          "state": {
            "_model_module": "@jupyter-widgets/base",
            "_model_module_version": "1.2.0",
            "_model_name": "LayoutModel",
            "_view_count": null,
            "_view_module": "@jupyter-widgets/base",
            "_view_module_version": "1.2.0",
            "_view_name": "LayoutView",
            "align_content": null,
            "align_items": null,
            "align_self": null,
            "border": null,
            "bottom": null,
            "display": null,
            "flex": null,
            "flex_flow": null,
            "grid_area": null,
            "grid_auto_columns": null,
            "grid_auto_flow": null,
            "grid_auto_rows": null,
            "grid_column": null,
            "grid_gap": null,
            "grid_row": null,
            "grid_template_areas": null,
            "grid_template_columns": null,
            "grid_template_rows": null,
            "height": null,
            "justify_content": null,
            "justify_items": null,
            "left": null,
            "margin": null,
            "max_height": null,
            "max_width": null,
            "min_height": null,
            "min_width": null,
            "object_fit": null,
            "object_position": null,
            "order": null,
            "overflow": null,
            "overflow_x": null,
            "overflow_y": null,
            "padding": null,
            "right": null,
            "top": null,
            "visibility": null,
            "width": null
          }
        }
      }
    }
  },
  "cells": [
    {
      "cell_type": "code",
      "execution_count": 22,
      "metadata": {
        "id": "kQqtIqEVi1wr"
      },
      "outputs": [],
      "source": [
        "%matplotlib inline\n",
        "import matplotlib.pyplot as plt\n",
        "from ipywidgets import interact\n",
        "import numpy as np"
      ]
    },
    {
      "cell_type": "code",
      "source": [
        "def f_magy(y_list,l,r1,r2):\n",
        "    value_list = []\n",
        "    for y in y_list:\n",
        "        value = ((y+l)*(np.arcsinh(r2/(y+l))-np.arcsinh(r1/(y+l))) + y*(np.arcsinh(r1/y)-np.arcsinh(r2/y)))**2\n",
        "        value_list.append(value)\n",
        "    return value_list"
      ],
      "metadata": {
        "id": "rR0j2Y7ai52X"
      },
      "execution_count": 23,
      "outputs": []
    },
    {
      "cell_type": "code",
      "source": [
        "x = np.linspace(-0.05, 0.05, num = 100)\n",
        "y = f_magy(x,0,0,0)"
      ],
      "metadata": {
        "id": "koznUYgkklYy"
      },
      "execution_count": 24,
      "outputs": []
    },
    {
      "cell_type": "code",
      "source": [
        "def f(l,r1,r2):\n",
        "    x = np.linspace(-0.05, 0.05, num = 100)\n",
        "    y = f_magy(x,l,r1,r2)\n",
        "    plt.plot(x, y)\n",
        "    plt.grid(True)\n",
        "    plt.show()\n",
        "interact(f, l=(0.010, 0.070,0.001), r1=(0.010, 0.050,0.001), r2=(0.010,0.020,0.0001))"
      ],
      "metadata": {
        "colab": {
          "base_uri": "https://localhost:8080/",
          "height": 378,
          "referenced_widgets": [
            "b3636a217acc42219e1f218a84bce231",
            "2faba2db133e473c9a385e3326e1b648",
            "bf1345f526a54498b6957f8c18340c94",
            "488d720199a249bd94b3736cb7e8af7a",
            "13b83734e87145bc8f92ba37739b84d1",
            "5d39a995e6c0419c856ddec2e0fb07ea",
            "5071e762db5e4e608e6979b442253bcb",
            "a6e28b81eb384682b1d2eba497424629",
            "0ba44c61c0c2408387d4d0a28516beaf",
            "fd376da8900c4ffea8d0783d2fab1f72",
            "4fbe2308fc2f4dbf9740776b57858255",
            "a753186dd5c44939b69b035984b745da",
            "0454f9bf3d72492dad3f636478a29d31"
          ]
        },
        "id": "cFQ9E4Hyi7p3",
        "outputId": "ee231c84-160d-4b01-b31a-13f683f1225e"
      },
      "execution_count": 28,
      "outputs": [
        {
          "output_type": "display_data",
          "data": {
            "text/plain": [
              "interactive(children=(FloatSlider(value=0.04, description='l', max=0.07, min=0.01, step=0.001), FloatSlider(va…"
            ],
            "application/vnd.jupyter.widget-view+json": {
              "version_major": 2,
              "version_minor": 0,
              "model_id": "b3636a217acc42219e1f218a84bce231"
            }
          },
          "metadata": {}
        },
        {
          "output_type": "execute_result",
          "data": {
            "text/plain": [
              "<function __main__.f>"
            ]
          },
          "metadata": {},
          "execution_count": 28
        }
      ]
    },
    {
      "cell_type": "code",
      "source": [
        "def f1(n, d):\n",
        "    x = np.linspace(1, n, num = 100)\n",
        "    y1 = [n] * 100\n",
        "    y2 = np.ceil(d / (x + 1) ) + (x)\n",
        "    y3 = d / (x + 1) + x\n",
        "    print(type(y2[0]))\n",
        "    plt.plot(x, y1) # Blue\n",
        "    plt.plot(x, y2) # Green\n",
        "    plt.plot(x, y3) # Orange\n",
        "    plt.grid(True)\n",
        "    plt.show()\n",
        "interact(f1, n=(1, 20), d = (1,100))"
      ],
      "metadata": {
        "colab": {
          "base_uri": "https://localhost:8080/",
          "height": 365,
          "referenced_widgets": [
            "26cb569258ae407e95ac11c2d2392ba3",
            "d4d32c22d76b4debb2b8daca3221a501",
            "f749389c3cad4e2ba35a32764e062b7a",
            "dab612bddcbf4b8e94608120b7d8b287",
            "cb52668d4cb744608434b2ff203b450b",
            "5d3b42fae8154f7db04edc1f888788a5",
            "327d247ad26a4cd2819793d7748b1db1",
            "76861696d0254550a16219758d2c973d",
            "fadcebf362344476b7df3b6b43848add",
            "98baf62752984616a561887acf3ef324"
          ]
        },
        "id": "wd7klBaRkFJq",
        "outputId": "91af67b9-8f25-46b2-cae7-73ec9a7f8be6"
      },
      "execution_count": 10,
      "outputs": [
        {
          "output_type": "display_data",
          "data": {
            "text/plain": [
              "interactive(children=(IntSlider(value=10, description='n', max=20, min=1), IntSlider(value=50, description='d'…"
            ],
            "application/vnd.jupyter.widget-view+json": {
              "version_major": 2,
              "version_minor": 0,
              "model_id": "26cb569258ae407e95ac11c2d2392ba3"
            }
          },
          "metadata": {}
        },
        {
          "output_type": "execute_result",
          "data": {
            "text/plain": [
              "<function __main__.f1>"
            ]
          },
          "metadata": {},
          "execution_count": 10
        }
      ]
    },
    {
      "cell_type": "code",
      "source": [
        ""
      ],
      "metadata": {
        "id": "iagSmvfSj14u"
      },
      "execution_count": 5,
      "outputs": []
    }
  ]
}